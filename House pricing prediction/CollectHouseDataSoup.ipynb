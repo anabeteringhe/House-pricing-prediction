{
 "cells": [
  {
   "cell_type": "code",
   "execution_count": 1,
   "metadata": {},
   "outputs": [],
   "source": [
    "import requests # type: ignore\n",
    "from bs4 import BeautifulSoup\n",
    "import pandas as pd"
   ]
  },
  {
   "cell_type": "code",
   "execution_count": 2,
   "metadata": {},
   "outputs": [
    {
     "name": "stderr",
     "output_type": "stream",
     "text": [
      "<>:1: SyntaxWarning: invalid escape sequence '\\C'\n",
      "<>:1: SyntaxWarning: invalid escape sequence '\\C'\n",
      "C:\\Users\\Ana\\AppData\\Local\\Temp\\ipykernel_17548\\3326974273.py:1: SyntaxWarning: invalid escape sequence '\\C'\n",
      "  df = pd.read_csv(\"..\\CSVs\\Links.csv\")\n"
     ]
    }
   ],
   "source": [
    "df = pd.read_csv(\"..\\CSVs\\Links.csv\")\n",
    "linkList = df.values.tolist()\n",
    "HouseDataList = []"
   ]
  },
  {
   "cell_type": "code",
   "execution_count": 3,
   "metadata": {},
   "outputs": [],
   "source": [
    "url=\"https://www.storia.ro/ro/oferta/vila-de-vanzare-prelungirea-ghencea-500-mp-teren-IDA8yd\"\n",
    "headers = {'User-Agent': 'Mozilla/5.0 (iPhone; CPU iPhone OS 16_6 like Mac OS X) AppleWebKit/605.1.15 (KHTML, like Gecko) Version/16.6 Mobile/15E148 Safari/604.1'}\n",
    "result = requests.get(url, headers=headers)\n",
    "soup = BeautifulSoup(result.content.decode(), \"html.parser\")\n",
    "# print(soup.prettify())\n"
   ]
  },
  {
   "cell_type": "code",
   "execution_count": 4,
   "metadata": {},
   "outputs": [
    {
     "name": "stdout",
     "output_type": "stream",
     "text": [
      "27\n",
      "['Suprafață utilă', 'Tip încălzire', 'Suprafață teren (m²)', 'Stare', 'Tip clădire', 'Anul construcției', 'Numărul de camere', 'Garaj/loc de parcare', 'Vizionare la distanță', 'Chirie', 'Tip proprietate', 'Tip vânzător', 'Liber de la', 'Material de construcție', 'Tip geamuri', 'Numar de etaje', 'Casa de vacanta', 'Tip acoperis', 'Acoperis', 'Tip mansardă', 'Media', 'Siguranță', 'Tip gard', 'Tip acces', 'Locație', 'Imprejurimi', 'Informații suplimentare']\n",
      "27\n",
      "['521 m²', 'Cere informații', '780 m²', 'necesită renovare', 'singur in curte', '2004', '9 ', 'Cere informații', 'Cere informații', 'Cere informații', 'locuință nouă', 'agenție', 'fără informații', 'fără informații', 'fără informații', 'un nivel', 'fără informații', 'fără informații', 'fără informații', 'fără informații', 'electricitate', 'fără informații', 'fără informații', 'fără informații', 'fără informații', 'fără informații', 'fără informații']\n"
     ]
    }
   ],
   "source": [
    "tableValue = []\n",
    "tableKeys = []\n",
    "\n",
    "Keys = soup.find_all(\"div\", {\"data-cy\": \"table-label-content\"})\n",
    "tableKeys = [div.text for div in Keys]\n",
    "print(len(tableKeys))\n",
    "print(tableKeys)\n",
    "\n",
    "for key in tableKeys:\n",
    "    tableValue.append(soup.find(\"div\", {\"aria-label\":key}).text)\n",
    "\n",
    "for key in tableKeys:\n",
    "    tableValue = [value.replace(key, '') for value in tableValue]\n",
    "\n",
    "print(len(tableValue))\n",
    "print(tableValue)"
   ]
  },
  {
   "cell_type": "code",
   "execution_count": 5,
   "metadata": {},
   "outputs": [
    {
     "name": "stdout",
     "output_type": "stream",
     "text": [
      "Number of attributes in keys: 27\n",
      "Number of attributes in values: 27\n"
     ]
    }
   ],
   "source": [
    "houseDetails = {}\n",
    "\n",
    "num_attributes_keys = len(tableKeys)\n",
    "num_attributes_values = len(tableValue)\n",
    "\n",
    "print(\"Number of attributes in keys:\", num_attributes_keys)\n",
    "print(\"Number of attributes in values:\", num_attributes_values)\n",
    "\n"
   ]
  },
  {
   "cell_type": "code",
   "execution_count": 6,
   "metadata": {},
   "outputs": [
    {
     "name": "stdout",
     "output_type": "stream",
     "text": [
      "{'Suprafață utilă': '521 m²', 'Tip încălzire': 'Cere informații', 'Suprafață teren (m²)': '780 m²', 'Stare': 'necesită renovare', 'Tip clădire': 'singur in curte', 'Anul construcției': '2004', 'Numărul de camere': '9 ', 'Garaj/loc de parcare': 'Cere informații', 'Vizionare la distanță': 'Cere informații', 'Chirie': 'Cere informații', 'Tip proprietate': 'locuință nouă', 'Tip vânzător': 'agenție', 'Liber de la': 'fără informații', 'Material de construcție': 'fără informații', 'Tip geamuri': 'fără informații', 'Numar de etaje': 'un nivel', 'Casa de vacanta': 'fără informații', 'Tip acoperis': 'fără informații', 'Acoperis': 'fără informații', 'Tip mansardă': 'fără informații', 'Media': 'electricitate', 'Siguranță': 'fără informații', 'Tip gard': 'fără informații', 'Tip acces': 'fără informații', 'Locație': 'fără informații', 'Imprejurimi': 'fără informații', 'Informații suplimentare': 'fără informații'}\n"
     ]
    }
   ],
   "source": [
    "for key in tableKeys:\n",
    "    for value in tableValue:\n",
    "        houseDetails[key] = value\n",
    "        tableValue.remove(value)\n",
    "        break\n",
    "\n",
    "print(houseDetails)"
   ]
  },
  {
   "cell_type": "code",
   "execution_count": 7,
   "metadata": {},
   "outputs": [
    {
     "name": "stdout",
     "output_type": "stream",
     "text": [
      "[{'Suprafață utilă': '521 m²', 'Tip încălzire': 'Cere informații', 'Suprafață teren (m²)': '780 m²', 'Stare': 'necesită renovare', 'Tip clădire': 'singur in curte', 'Anul construcției': '2004', 'Numărul de camere': '9 ', 'Garaj/loc de parcare': 'Cere informații', 'Vizionare la distanță': 'Cere informații', 'Chirie': 'Cere informații', 'Tip proprietate': 'locuință nouă', 'Tip vânzător': 'agenție', 'Liber de la': 'fără informații', 'Material de construcție': 'fără informații', 'Tip geamuri': 'fără informații', 'Numar de etaje': 'un nivel', 'Casa de vacanta': 'fără informații', 'Tip acoperis': 'fără informații', 'Acoperis': 'fără informații', 'Tip mansardă': 'fără informații', 'Media': 'electricitate', 'Siguranță': 'fără informații', 'Tip gard': 'fără informații', 'Tip acces': 'fără informații', 'Locație': 'fără informații', 'Imprejurimi': 'fără informații', 'Informații suplimentare': 'fără informații', 'Preț': '195 000 €'}]\n"
     ]
    }
   ],
   "source": [
    "# price=soup.find(\"strong\", {\"data-cy\": \"adPageHeaderPrice\"}).text\n",
    "# houseDetails[\"Price\"] = price\n",
    "\n",
    "price=soup.find(\"strong\", {\"aria-label\":\"Preț\"}).text\n",
    "houseDetails[\"Preț\"] = price\n",
    "\n",
    "HouseDataList.append(houseDetails)\n",
    "\n",
    "print(HouseDataList)"
   ]
  },
  {
   "cell_type": "code",
   "execution_count": 8,
   "metadata": {},
   "outputs": [],
   "source": [
    "DataSet = pd.DataFrame(HouseDataList)\n",
    "DataSet.to_csv(r\"C:\\Users\\Ana\\Desktop\\House-pricing-prediction-master\\CSVs\\UneditedDataSetSoup--tab-separated.csv\", encoding=\"utf-16\", sep='\\t')\n",
    "DataSet.to_csv(r\"C:\\Users\\Ana\\Desktop\\House-pricing-prediction-master\\CSVs\\UneditedDataSetSoup.csv\", encoding=\"utf-16\")"
   ]
  }
 ],
 "metadata": {
  "kernelspec": {
   "display_name": "Python 3",
   "language": "python",
   "name": "python3"
  },
  "language_info": {
   "codemirror_mode": {
    "name": "ipython",
    "version": 3
   },
   "file_extension": ".py",
   "mimetype": "text/x-python",
   "name": "python",
   "nbconvert_exporter": "python",
   "pygments_lexer": "ipython3",
   "version": "3.12.3"
  }
 },
 "nbformat": 4,
 "nbformat_minor": 2
}
